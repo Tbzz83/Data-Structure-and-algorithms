{
 "cells": [
  {
   "cell_type": "code",
   "execution_count": 3,
   "id": "89c0b22c",
   "metadata": {},
   "outputs": [],
   "source": [
    "# O(n) time and O(1) space complexity'\n",
    "# We will use two pointers\n",
    "\n",
    "class Solution:\n",
    "    def maxArea(self, height) -> int:\n",
    "        left, right = 0, len(height) -1\n",
    "        maxx = 0\n",
    "        while left > right:\n",
    "            width = abs(left - right)\n",
    "            area = width * min(height[left], height[right])\n",
    "            maxx = max(area, maxx) # This is the key line right here. It checks that the new area just calculated is greater than the last\n",
    "            if height[left] > height[right]: # This last 'if' statement either increases the left pointer or decreases the right pointer, depending on which is smaller than the other\n",
    "                right -= 1\n",
    "            else:\n",
    "                left += 1\n",
    "                \n",
    "        return maxx \n",
    "        \n"
   ]
  },
  {
   "cell_type": "code",
   "execution_count": null,
   "id": "6619de0a",
   "metadata": {},
   "outputs": [],
   "source": []
  }
 ],
 "metadata": {
  "kernelspec": {
   "display_name": "Python 3 (ipykernel)",
   "language": "python",
   "name": "python3"
  },
  "language_info": {
   "codemirror_mode": {
    "name": "ipython",
    "version": 3
   },
   "file_extension": ".py",
   "mimetype": "text/x-python",
   "name": "python",
   "nbconvert_exporter": "python",
   "pygments_lexer": "ipython3",
   "version": "3.10.7"
  }
 },
 "nbformat": 4,
 "nbformat_minor": 5
}
