{
  "nbformat": 4,
  "nbformat_minor": 0,
  "metadata": {
    "colab": {
      "provenance": []
    },
    "kernelspec": {
      "name": "python3",
      "display_name": "Python 3"
    },
    "language_info": {
      "name": "python"
    }
  },
  "cells": [
    {
      "cell_type": "code",
      "execution_count": 1,
      "metadata": {
        "id": "raEFcAP_z-xa"
      },
      "outputs": [],
      "source": [
        "def get_hash(key):\n",
        "  h = 0\n",
        "  for char in key:\n",
        "    h += ord(char) # ord gets ascii value\n",
        "  return h % 100 # For an array of size 100"
      ]
    },
    {
      "cell_type": "code",
      "source": [
        "get_hash('march 28')"
      ],
      "metadata": {
        "colab": {
          "base_uri": "https://localhost:8080/"
        },
        "id": "-uGstVgw0Nng",
        "outputId": "0aa6f00f-75f9-4fa4-c849-9b9053189626"
      },
      "execution_count": 4,
      "outputs": [
        {
          "output_type": "execute_result",
          "data": {
            "text/plain": [
              "61"
            ]
          },
          "metadata": {},
          "execution_count": 4
        }
      ]
    },
    {
      "cell_type": "code",
      "source": [
        "class HashTable:\n",
        "  def __init__(self):\n",
        "    self.MAX = 100\n",
        "    self.arr = [None for i in range(self.MAX)] # Creating an array with 100 elements of value None\n",
        "\n",
        "  def get_hash(self, key):\n",
        "    h = 0\n",
        "    for char in key:\n",
        "      h += ord(char)\n",
        "    return h % self.MAX\n",
        "\n",
        "  def __setitem__(self, key, val): # __setitem__ allows you to use t[index] = val syntax\n",
        "    h = self.get_hash(key)\n",
        "    self.arr[h] = val # In empty array at index h insert value\n",
        "\n",
        "  def __getitem__(self, key): # __getitem__ allows you to use t[index] syntax to retrieve val\n",
        "    h = self.get_hash(key)\n",
        "    return self.arr[h]\n",
        "\n",
        "  def __delitem__(self, key):\n",
        "    h = get_hash(key)\n",
        "    self.arr[h] = None"
      ],
      "metadata": {
        "id": "h8oyHR1s0SGG"
      },
      "execution_count": 19,
      "outputs": []
    },
    {
      "cell_type": "code",
      "source": [
        "t = HashTable()\n",
        "t['march 6'] = 130\n",
        "t['march 1'] = 20\n",
        "t['dec 17'] = 20\n",
        "t['march 6']"
      ],
      "metadata": {
        "colab": {
          "base_uri": "https://localhost:8080/"
        },
        "id": "sW4O9LNI0pEm",
        "outputId": "7db3e743-a04c-45a9-b33d-51d03d0f995e"
      },
      "execution_count": 18,
      "outputs": [
        {
          "output_type": "execute_result",
          "data": {
            "text/plain": [
              "130"
            ]
          },
          "metadata": {},
          "execution_count": 18
        }
      ]
    }
  ]
}